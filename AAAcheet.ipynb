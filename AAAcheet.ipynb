{
 "cells": [
  {
   "cell_type": "markdown",
   "metadata": {},
   "source": [
    "# 入力"
   ]
  },
  {
   "cell_type": "code",
   "execution_count": null,
   "metadata": {},
   "outputs": [],
   "source": [
    "# 1行に1つの文字列\n",
    "A = input()\n",
    "# 1行に1つの整数\n",
    "B = int(input())\n",
    "# 1行に1つの小数\n",
    "C = float(input())\n",
    "\n",
    "# 1行に複数の文字列(配列として受け取る) aaa bbb ccc\n",
    "D = input().split()\n",
    "# 1行に複数の文字列(配列として受け取る) aaa bbb ccc\n",
    "E, EE, EEE = input().split()\n",
    "# 1行に任意の文字の文字列　abc 例えば3文字の場合\n",
    "F, FF, FFF = input() # FF には b\n",
    "# 1行に任意の文字の文字列　abc 例えば3文字の場合(1つの文字列として格納)\n",
    "F = input() # f[1] には　b\n",
    "# 文字列を集合として格納 abcabc -> {\"a\", \"b\", \"c\"}\n",
    "G = set(input())\n",
    "\n",
    "# 1行に複数の整数(配列として格納) 111 222 333\n",
    "H = list(map(int, input().split()))\n",
    "H = [int(x) for x in input().split()] # リスト内包表記\n",
    "# 1行に任意の数の整数 111 222 例えば2つの場合\n",
    "I, II = map(int, input().split())\n",
    "# 1行に複数の整数(昇順で配列に格納)\n",
    "J = sorted(map(int, input().split()))\n",
    "J = sorted([int(x) for x in input().split()]) # リスト内包表記\n",
    "# 1行に複数の整数(集合として格納) 111 222 333 222 -> {111, 222, 333}\n",
    "K = set(map(int, input().split()))\n",
    "K = {int(x) for x in input().split()} #セット内包表記\n",
    "\n",
    "# 複数行の入力\n",
    "\n",
    "\n",
    "\n"
   ]
  },
  {
   "cell_type": "markdown",
   "metadata": {},
   "source": [
    "# 配列"
   ]
  },
  {
   "cell_type": "code",
   "execution_count": 1,
   "metadata": {},
   "outputs": [
    {
     "name": "stdout",
     "output_type": "stream",
     "text": [
      "True\n"
     ]
    }
   ],
   "source": [
    "# 値が含まれているかどうか\n",
    "mylist = [\"A\", \"B\", \"C\", \"D\", \"E\"]\n",
    "\n",
    "print(\"B\" in mylist)"
   ]
  },
  {
   "cell_type": "code",
   "execution_count": 2,
   "metadata": {},
   "outputs": [
    {
     "name": "stdout",
     "output_type": "stream",
     "text": [
      "3\n"
     ]
    }
   ],
   "source": [
    "# 任意の値が何個含まれるか\n",
    "mylist = [\"A\", \"B\", \"A\", \"A\", \"C\"]\n",
    "\n",
    "print(mylist.count(\"A\"))"
   ]
  },
  {
   "cell_type": "code",
   "execution_count": 1,
   "metadata": {},
   "outputs": [
    {
     "name": "stdout",
     "output_type": "stream",
     "text": [
      "0\n"
     ]
    }
   ],
   "source": [
    "# 任意の値のindexを取得\n",
    "mylist = [\"A\", \"B\", \"A\", \"A\", \"C\"]\n",
    "\n",
    "print(mylist.index(\"A\"))"
   ]
  },
  {
   "cell_type": "code",
   "execution_count": 1,
   "metadata": {},
   "outputs": [
    {
     "name": "stdout",
     "output_type": "stream",
     "text": [
      "['A', 'B', 'A', 'C']\n"
     ]
    }
   ],
   "source": [
    "# indexで指定した要素を削除\n",
    "mylist = [\"A\", \"B\", \"A\", \"A\", \"C\"]\n",
    "mylist.pop(3)\n",
    "print(mylist)"
   ]
  },
  {
   "cell_type": "code",
   "execution_count": 3,
   "metadata": {},
   "outputs": [
    {
     "name": "stdout",
     "output_type": "stream",
     "text": [
      "1 2 3 4 5\n"
     ]
    }
   ],
   "source": [
    "#空白区切りで出力\n",
    "x = [1,2,3,4,5]\n",
    "print(*x)"
   ]
  },
  {
   "cell_type": "code",
   "execution_count": null,
   "metadata": {},
   "outputs": [],
   "source": [
    "#昇順\n",
    "sorted(list)\n",
    "list.sort()\n",
    "#降順\n",
    "sorted(list, reverse=True)\n",
    "#絶対値で並び替え\n",
    "sorted(list, key=abs)"
   ]
  },
  {
   "attachments": {},
   "cell_type": "markdown",
   "metadata": {},
   "source": [
    "## 文字列"
   ]
  },
  {
   "cell_type": "code",
   "execution_count": null,
   "metadata": {},
   "outputs": [],
   "source": [
    "#置き換え\n",
    "s = 'one two one two one'\n",
    "print(s.replace(' ', '-'))\n",
    "# one-two-one-two-one\n",
    "\n",
    "#第三引数countで最大置換回数を指定できる。左から順に置換され、最大置換回数を超えると置換されない。"
   ]
  },
  {
   "cell_type": "code",
   "execution_count": null,
   "metadata": {},
   "outputs": [],
   "source": [
    "text = \"abc\"\n",
    "#大文字\n",
    "text.upper()\n",
    "#小文字\n",
    "text.lower()"
   ]
  },
  {
   "cell_type": "markdown",
   "metadata": {},
   "source": [
    "# 計算"
   ]
  },
  {
   "cell_type": "code",
   "execution_count": 3,
   "metadata": {},
   "outputs": [
    {
     "data": {
      "text/plain": [
       "[[2, 1], [5, 2]]"
      ]
     },
     "execution_count": 3,
     "metadata": {},
     "output_type": "execute_result"
    }
   ],
   "source": [
    "# 素因数分解\n",
    "\n",
    "def factorization(n):\n",
    "    arr = []\n",
    "    temp = n\n",
    "    for i in range(2, int(-(-n**0.5//1))+1):\n",
    "        if temp%i==0:\n",
    "            cnt=0\n",
    "            while temp%i==0:\n",
    "                cnt+=1\n",
    "                temp //= i\n",
    "            arr.append([i, cnt])\n",
    "\n",
    "    if temp!=1:\n",
    "        arr.append([temp, 1])\n",
    "\n",
    "    if arr==[]:\n",
    "        arr.append([n, 1])\n",
    "\n",
    "    return arr\n",
    "\n",
    "factorization(50) \n",
    "# [[2, 3], [3, 1]] \n",
    "#  24 = 2^3 * 3^1\n"
   ]
  }
 ],
 "metadata": {
  "kernelspec": {
   "display_name": "Python 3.8.8 ('base')",
   "language": "python",
   "name": "python3"
  },
  "language_info": {
   "codemirror_mode": {
    "name": "ipython",
    "version": 3
   },
   "file_extension": ".py",
   "mimetype": "text/x-python",
   "name": "python",
   "nbconvert_exporter": "python",
   "pygments_lexer": "ipython3",
   "version": "3.8.8"
  },
  "orig_nbformat": 4,
  "vscode": {
   "interpreter": {
    "hash": "01f2f6b9a6c40681f606cb18ea9185582f5d1e52debbc59afee586b98a8ad4a0"
   }
  }
 },
 "nbformat": 4,
 "nbformat_minor": 2
}
